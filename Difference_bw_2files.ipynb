{
 "cells": [
  {
   "cell_type": "code",
   "execution_count": 2,
   "id": "15b66c6a",
   "metadata": {},
   "outputs": [
    {
     "name": "stdout",
     "output_type": "stream",
     "text": [
      "Rows with differences:\n",
      "    OrderID OrderDate   Region     Rep     Item  Units  Unit Cost\n",
      "17       18  10-22-21     East   Jones      Pen     64       8.99\n",
      "19       20  11-25-21  Central  Kivell  Pen Set     96       4.99\n",
      "22       23   1-15-22  Central    Gill   Binder     46       8.99\n",
      "17       18  10-22-21     East   Jones      Pen     43       8.99\n",
      "19       20  11-25-21  Central  Kivell  Pen Set     43       4.99\n",
      "22       23   1-15-22  Central    Gill   Binder     46       4.54\n"
     ]
    }
   ],
   "source": [
    "import pandas as pd\n",
    "\n",
    "def compare_csv_files(file1, file2):\n",
    "    # Read CSV files into DataFrames\n",
    "    df1 = pd.read_csv(file1)\n",
    "    df2 = pd.read_csv(file2)\n",
    "\n",
    "    # Compare the DataFrames and find differences\n",
    "    differences = pd.concat([df1, df2]).drop_duplicates(keep=False)\n",
    "\n",
    "    # Display the rows with differences\n",
    "    print(\"Rows with differences:\")\n",
    "    print(differences)\n",
    "\n",
    "# Replace 'file1.csv' and 'file2.csv' with your file paths\n",
    "compare_csv_files('SuppliesData.csv', 'Supplies_Data_2.csv')\n"
   ]
  },
  {
   "cell_type": "code",
   "execution_count": 8,
   "id": "7511f6df",
   "metadata": {},
   "outputs": [
    {
     "name": "stdout",
     "output_type": "stream",
     "text": [
      "    OrderID OrderDate   Region     Rep     Item  Units  Unit Cost\n",
      "17       18  10-22-21     East   Jones      Pen     43       8.99\n",
      "19       20  11-25-21  Central  Kivell  Pen Set     43       4.99\n",
      "22       23   1-15-22  Central    Gill   Binder     46       4.54\n"
     ]
    }
   ],
   "source": [
    "import pandas as pd\n",
    "\n",
    "def compare_csv_files(file1_path, file2_path):\n",
    "    # Read CSV files into pandas DataFrames\n",
    "    df1 = pd.read_csv(file1_path)\n",
    "    df2 = pd.read_csv(file2_path)\n",
    "\n",
    "    # Find rows with different data in file2\n",
    "    differences = df2.merge(df1, how='left', indicator=True).loc[lambda x: x['_merge'] == 'left_only'].drop('_merge', axis=1)\n",
    "  #  print(\"Rows in {} with differences compared to {}:\".format(file2, file1))\n",
    "    print(differences)\n",
    "\n",
    "# Specify the paths to your CSV files\n",
    "file1_path = 'SuppliesData.csv'\n",
    "file2_path = 'Supplies_Data_2.csv'\n",
    "\n",
    "# Get rows with different data in file2\n",
    "different_rows = compare_csv_files(file1_path, file2_path)\n",
    "\n"
   ]
  },
  {
   "cell_type": "code",
   "execution_count": null,
   "id": "12bee88f",
   "metadata": {},
   "outputs": [],
   "source": []
  }
 ],
 "metadata": {
  "kernelspec": {
   "display_name": "Python 3 (ipykernel)",
   "language": "python",
   "name": "python3"
  },
  "language_info": {
   "codemirror_mode": {
    "name": "ipython",
    "version": 3
   },
   "file_extension": ".py",
   "mimetype": "text/x-python",
   "name": "python",
   "nbconvert_exporter": "python",
   "pygments_lexer": "ipython3",
   "version": "3.9.12"
  }
 },
 "nbformat": 4,
 "nbformat_minor": 5
}
